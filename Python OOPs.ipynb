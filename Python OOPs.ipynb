{
  "cells": [
    {
      "cell_type": "markdown",
      "source": [
        "#1.What is Object-Oriented Programming(OOP)?\n",
        "-In OOP, objects are created from templates called \"classes\", which define the properties and behavior of the objects they create. It lets you structure your code by grouping related properties and behaviors into individual objects. You create classes as blueprint and instantiate them to form objects.\n",
        "#2. What is a class in OOP?\n",
        "-Classes are blueprint/template for creating an object\n",
        "#3. What is an object in OOP?\n",
        "-Object is an instance of a class\n",
        "#4. What is the difference between abstraction and encapsulation?\n",
        "-Abstraction focuses on hiding unnecessary details, emphasizing the essential characteristics of an object or system. It provides a high-level view and simplifies complexity. Encapsulation focuses on bundling data and methods within a class, restricting direct access to the internal state of an object. It ensures data protection and enables controlled access to the objects attributes.\n",
        "#5.What are dunder methods in Python?\n",
        "-dunder methods are special in built methods in Python. They are defined with surrounding double underscore. They are used to define custom objects\n",
        "#6. Explain the concept of inheritance in OOP.\n",
        "-Inheritance as the name suggest is inheriting all the attributes and methods of the parent class by the child class\n",
        "#7. What is polymorphism in OOP?\n",
        "-Polymorphism is taking different state/form. It refers to an object taking different forms depending on the method/data\n",
        "#8. How is encapsulation achieved in Python?\n",
        "-Encapsulation is achieved by declaring a class's data members and methods as either private or protected.\n",
        "#9. What is a constructor in Python?\n",
        "- Constructors in Python is a special class method for creating and initializing an object instance at that class. Every Python class has a constructor; it's not required to be defined explicitly. The purpose of the constructor is to construct an object and assign a value to the object's members\n",
        "#10. What are class and static methods in Python?\n",
        "-Static method cannot access or modify any class attributes however Classmethod can access and modify attributes associated to the class for all instances\n",
        "#11. What is method overloading in Python?\n",
        "-Method overloading happens within the same class. It is when the value of an attribute is overloaded with another value.\n",
        "#12. What is method overriding in OOP?\n",
        "-Overriding is when a child or derived class changes the behavior/data of a parent class attribute.\n",
        "#13. What is a property decorator in Python?\n",
        "-property decorator is a built-in Python decorator that allows you to turn class methods into properties.Property decorators allows to use class method as an attribute without the need of (). Private variables can be accessed using Property decorators.\n",
        "#14.Why is polymorphism important in OOP?\n",
        "-Polymorphism allows to overload and overwrite a function. overloading can be achieved by passing more attributes in the child function and overwriting can be achieved by passing a new value in the child class for a parent attribute.\n",
        "#15.What is an abstract class in Python?\n",
        "-An abstract class in Python is used to hide complex implementation to hide the unneeded and expose the required.\n",
        "#16.What are the advantages of OOP?\n",
        "-OOPs allows developers to divide a complex software system into small, manageable objects. Each object is responsible for a specific function.\n",
        "#17. What is the difference between a class variable and an instance variable?\n",
        "-Class variables are shared by all the instances of the class however instance variable is only accesable by that instance of the class\n",
        "#18.What is multiple inheritance in Python1\n",
        "-Multiple inheritance is when a child class inherits the attributes from 2 different parent classes\n",
        "#19. Explain the purpose of ‘’__str__’ and ‘__repr__’ ‘ methods in Python\n",
        "-__str__() is for creating a readable representation of an object for end-users. __repr__() is for creating a detailed and precise representation for developers.\n",
        "#20.What is the significance of the ‘super()’ function in Python1\n",
        "-'super()' function is used to refer to the parent class or superclass. It allows you to call methods defined in the superclass from the subclass, enabling you to extend and customize the functionality inherited from the parent class.\n",
        "#21.What is the significance of the __del__ method in Python?\n",
        "-__del__ method is a dundar method which enables to delete a existing method\n",
        "#22.What is the difference between @staticmethod and @classmethod in Python?\n",
        "-@static method cannot access or modify any class attributes however @classmethod get access and modify attributes associated to the class for all instances\n",
        "#23. How does polymorphism work in Python with inheritance?\n",
        "-Polymorphism can be achieved through overloading or overwriting.In inheritance overloading can be achieved by passing more attributes in the child function and overwriting can be achieved by passing a new value in the child class for a parent attribute.\n",
        "#24.What is method chaining in Python OOP?\n",
        "-Method chaining allows us to call multiple methods on an object in a single, continuous line of code.\n",
        "#25.What is the purpose of the __call__ method in Python?\n",
        "-The main idea of __call__ method is to write a class and invoke it like a function.\n",
        "\n",
        "\n",
        "\n"
      ],
      "metadata": {
        "id": "dyVyQRvDsDEU"
      }
    },
    {
      "cell_type": "code",
      "source": [
        "#1. Create a parant class Animal with a method speak() that prints a generic message. Create a child class Dog that overrides the speak() method to print \"Bark!\"\n",
        "class Animal:\n",
        "  def speak(self):\n",
        "    print(\"I am an animal\")\n",
        "\n",
        "class Dog(Animal):\n",
        "  def speak(self):\n",
        "    print(\"Bark!\")\n",
        "\n",
        "demo = Dog()\n",
        "demo.speak()\n"
      ],
      "metadata": {
        "id": "onKPvVh_tz92",
        "outputId": "a8bae731-00c2-4a56-d931-330eb63c0f86",
        "colab": {
          "base_uri": "https://localhost:8080/"
        }
      },
      "execution_count": 1,
      "outputs": [
        {
          "output_type": "stream",
          "name": "stdout",
          "text": [
            "Bark!\n"
          ]
        }
      ]
    },
    {
      "cell_type": "code",
      "source": [
        "#2. Write a program to create an abstract class Shape with a method area(). Derive classes Circle and Rectangle from it and implement the area() method in both.\n",
        "import abc\n",
        "\n",
        "class Shape:\n",
        "  @abc.abstractmethod\n",
        "  def area(self):\n",
        "    pass\n",
        "\n",
        "class Circle(Shape):\n",
        "  def area(self):\n",
        "    print(\"The area of a circle is\")\n",
        "\n",
        "class Rectangle(Shape):\n",
        "  def area(self):\n",
        "    print(\"The area of a rectangle is\")\n",
        "\n",
        "demo = Circle()\n",
        "demo.area()\n",
        "\n"
      ],
      "metadata": {
        "id": "rcn2KP1-uHXo",
        "outputId": "c69bd134-5b29-4853-f0f1-6482556c723a",
        "colab": {
          "base_uri": "https://localhost:8080/"
        }
      },
      "execution_count": 2,
      "outputs": [
        {
          "output_type": "stream",
          "name": "stdout",
          "text": [
            "The area of a circle is\n"
          ]
        }
      ]
    },
    {
      "cell_type": "code",
      "source": [
        "#3. Implement a multi-level inheritance scenario where a class Vehicle has an attribute type. Derive a class Car and further derive a class ElectricCar that adds a battery attribute.\n",
        "class Vehicle:\n",
        "  def engine(self):\n",
        "    return \"This is the parent vehicle\"\n",
        "\n",
        "class Car(Vehicle):\n",
        "  def wheels(self):\n",
        "    return \"This is a car with 4 wheels\"\n",
        "\n",
        "class ElectricCar(Car):\n",
        "  def battery(self):\n",
        "    return \"This is an electric 4 wheeler\"\n",
        "\n",
        "demo = ElectricCar()\n",
        "demo.engine()\n"
      ],
      "metadata": {
        "id": "RQwmwrWGuNkv",
        "outputId": "f102ddb7-df22-4983-e5a0-7dc39b03f937",
        "colab": {
          "base_uri": "https://localhost:8080/",
          "height": 35
        }
      },
      "execution_count": 3,
      "outputs": [
        {
          "output_type": "execute_result",
          "data": {
            "text/plain": [
              "'This is the parent vehicle'"
            ],
            "application/vnd.google.colaboratory.intrinsic+json": {
              "type": "string"
            }
          },
          "metadata": {},
          "execution_count": 3
        }
      ]
    },
    {
      "cell_type": "code",
      "source": [
        "#4. Implement a multi-level inheritance scenario where a class Vehicle has an attribute type. Derive a class Car and further derive a class ElectricCar that adds a battery attribute.\n",
        "class Vehicle:\n",
        "  def engine(self):\n",
        "    return \"This is the parent vehicle\"\n",
        "\n",
        "class Car(Vehicle):\n",
        "  def wheels(self):\n",
        "    return \"This is a car with 4 wheels\"\n",
        "\n",
        "class ElectricCar(Car):\n",
        "  def battery(self):\n",
        "    return \"This is an electric 4 wheeler\"\n",
        "\n",
        "demo = ElectricCar()\n",
        "demo.engine()\n"
      ],
      "metadata": {
        "id": "qtNO08WruXcJ",
        "outputId": "5a61f76b-cd08-4067-f843-d6877ee7c382",
        "colab": {
          "base_uri": "https://localhost:8080/",
          "height": 35
        }
      },
      "execution_count": 4,
      "outputs": [
        {
          "output_type": "execute_result",
          "data": {
            "text/plain": [
              "'This is the parent vehicle'"
            ],
            "application/vnd.google.colaboratory.intrinsic+json": {
              "type": "string"
            }
          },
          "metadata": {},
          "execution_count": 4
        }
      ]
    },
    {
      "cell_type": "code",
      "source": [
        "#5. Write a program to demostrate encapsulation by creating a class BankAccount with private attributes balance and methods to deposit, withdraw and check balance.\n",
        "class BankAccount():\n",
        "  def __init__(self):\n",
        "    self.__balance = 0\n",
        "\n",
        "  def deposit(self,amount):\n",
        "    self.amount = amount\n",
        "    self.__balance = self.__balance + self.amount\n",
        "    return f\"You have deposited {self.amount}\"\n",
        "\n",
        "  def withdraw(self,amount):\n",
        "    self.amount = amount\n",
        "    if self.__balance < self.amount:\n",
        "      raise ValueError (\"You cannot withdraw more than the balance\")\n",
        "    else:\n",
        "      self.__balance = self.__balance - self.amount\n",
        "      return f\"You have withrawn {self.amount}\"\n",
        "\n",
        "  def checkbalance(self):\n",
        "    return self.__balance\n",
        "\n",
        "demo = BankAccount()\n",
        "demo.checkbalance()\n",
        "demo.deposit(500)\n",
        "demo.checkbalance()\n",
        "demo.withdraw(200)\n",
        "demo.checkbalance()\n"
      ],
      "metadata": {
        "id": "E7GYUc4FucsO",
        "outputId": "6b5704fe-8110-48ed-8379-b97cb5d8e9ab",
        "colab": {
          "base_uri": "https://localhost:8080/"
        }
      },
      "execution_count": 5,
      "outputs": [
        {
          "output_type": "execute_result",
          "data": {
            "text/plain": [
              "300"
            ]
          },
          "metadata": {},
          "execution_count": 5
        }
      ]
    },
    {
      "cell_type": "code",
      "source": [
        "#6. Demonstrate runtime polymorphism using a method play() in a base class instrument. Derive classes Guitar and Piano that implements their own version of play()\n",
        "class instrument():\n",
        "  def play(self):\n",
        "    return \"Playing is fun\"\n",
        "class guitar(instrument):\n",
        "  def play(self,instrument_name):\n",
        "    return \"Playing is fun \" + \"with \" + instrument_name\n",
        "class piano(instrument):\n",
        "  def play(self,instrument_name):\n",
        "    return \"Playing is fun \" + \"with \" + instrument_name\n",
        "\n",
        "demo = instrument()\n",
        "demo.play()\n",
        "demo = piano()\n",
        "demo.play(\"piano\")\n"
      ],
      "metadata": {
        "id": "lS4FLQ8BuisB",
        "outputId": "45e21240-52f8-48e8-908a-7f4b616ccd50",
        "colab": {
          "base_uri": "https://localhost:8080/",
          "height": 35
        }
      },
      "execution_count": 6,
      "outputs": [
        {
          "output_type": "execute_result",
          "data": {
            "text/plain": [
              "'Playing is fun with piano'"
            ],
            "application/vnd.google.colaboratory.intrinsic+json": {
              "type": "string"
            }
          },
          "metadata": {},
          "execution_count": 6
        }
      ]
    },
    {
      "cell_type": "code",
      "source": [
        "#7. Create a class MathOperations with a class method add_numbers() to add two numbers and a static method subtract_number to subtract two number\n",
        "class MathOperations():\n",
        "  def add_numbers(self,x,y):\n",
        "    self.x = x\n",
        "    self.y = y\n",
        "    return self.x + self.y\n",
        "\n",
        "  @staticmethod\n",
        "  def subtract_numbers(x,y):\n",
        "    return x-y\n",
        "\n",
        "MathOperations.subtract_numbers(70,20)\n",
        "demo = MathOperations()\n",
        "demo.add_numbers(40,60)\n"
      ],
      "metadata": {
        "id": "YA5RNOpxun5x",
        "outputId": "4a82f2ab-de65-45f0-ae96-d84571d85126",
        "colab": {
          "base_uri": "https://localhost:8080/"
        }
      },
      "execution_count": 7,
      "outputs": [
        {
          "output_type": "execute_result",
          "data": {
            "text/plain": [
              "100"
            ]
          },
          "metadata": {},
          "execution_count": 7
        }
      ]
    },
    {
      "cell_type": "code",
      "source": [
        "#8. Implement a class Person with a class method to count the total number of persons created.\n",
        "class Person():\n",
        "  counter = 0\n",
        "  def __init__(self):\n",
        "      Person.counter +=1\n",
        "  def person(self):\n",
        "\n",
        "    return Person.counter\n",
        "\n",
        "demo = Person()\n",
        "demo.person()\n",
        "demo1= Person()\n",
        "demo.person()\n"
      ],
      "metadata": {
        "id": "J8epexMIur1z",
        "outputId": "afbb4de4-c5a1-4ce9-a5db-8d20003f0d59",
        "colab": {
          "base_uri": "https://localhost:8080/"
        }
      },
      "execution_count": 8,
      "outputs": [
        {
          "output_type": "execute_result",
          "data": {
            "text/plain": [
              "2"
            ]
          },
          "metadata": {},
          "execution_count": 8
        }
      ]
    },
    {
      "cell_type": "code",
      "source": [
        "#9. Write a class fraction with attributes numerator and denominator. Override the str method to display the fraction as \"numerator/denominator\".\n",
        "class fraction:\n",
        "  def __init__(self,numerator,denominator):\n",
        "    self.numerator = numerator\n",
        "    self.denominator = denominator\n",
        "\n",
        "  def __str__(self):\n",
        "    return (\"numerator/denominator\")\n",
        "\n",
        "demo = fraction(90,20)\n",
        "print(demo)\n"
      ],
      "metadata": {
        "id": "M83zpAy4uxnR",
        "outputId": "9140f67a-6279-4da9-9ba1-e02b0a67beda",
        "colab": {
          "base_uri": "https://localhost:8080/"
        }
      },
      "execution_count": 9,
      "outputs": [
        {
          "output_type": "stream",
          "name": "stdout",
          "text": [
            "numerator/denominator\n"
          ]
        }
      ]
    },
    {
      "cell_type": "code",
      "source": [
        "#10. Demonstrate operator overloading by creating a class Vector and override the add method to add two vectors\n",
        "class Vector:\n",
        "  def __init__(self,x):\n",
        "    self.x = x\n",
        "  def __add__(self,other):\n",
        "    return Vector(self.x + other.x)\n",
        "\n",
        "demo = Vector(50)\n",
        "demo1 = Vector(40)\n",
        "demo2 = demo + demo1\n",
        "print(demo2.x)\n"
      ],
      "metadata": {
        "id": "OP5FiFjEu2Ot",
        "outputId": "edaef849-c5a6-46c5-aaf8-1a21f721d241",
        "colab": {
          "base_uri": "https://localhost:8080/"
        }
      },
      "execution_count": 10,
      "outputs": [
        {
          "output_type": "stream",
          "name": "stdout",
          "text": [
            "90\n"
          ]
        }
      ]
    },
    {
      "cell_type": "code",
      "source": [
        "#11. Create a class Person with attributes name and age. Add a method greet() that prints \"Hello, my name is {name} and I am {age} years old\"\n",
        "class Person:\n",
        "  def greet(self,name,age):\n",
        "    self.name = name\n",
        "    self.age = age\n",
        "    print(f\"Hello,my name is {self.name} and I am {self.age} years old\")\n",
        "\n",
        "demo = Person()\n",
        "demo.greet(\"Rishabh\",\"42\")\n"
      ],
      "metadata": {
        "id": "esaxL3N3u6vX",
        "outputId": "5fc49631-8af1-4cc0-fcbd-c7cba190abe1",
        "colab": {
          "base_uri": "https://localhost:8080/"
        }
      },
      "execution_count": 11,
      "outputs": [
        {
          "output_type": "stream",
          "name": "stdout",
          "text": [
            "Hello,my name is Rishabh and I am 42 years old\n"
          ]
        }
      ]
    },
    {
      "cell_type": "code",
      "source": [
        "#12. Implement a class student with attributes name and grades. Create a method average_grade() to compute the average of the grades.\n",
        "class Student:\n",
        "  counter = 0\n",
        "  total = 0\n",
        "  def __init__(self,name,grade):\n",
        "    self.name = name\n",
        "    self.grade= grade\n",
        "    Student.counter +=1\n",
        "    Student.total = Student.total + self.grade\n",
        "\n",
        "  def average_grade(self,average=0):\n",
        "    average= ((Student.total)/Student.counter)\n",
        "    return average\n",
        "\n",
        "demo = Student(\"Rishabh\",90)\n",
        "demo1 = Student(\"Ajay\",80)\n",
        "demo2 = Student(\"Bijay\",70)\n",
        "demo3 = Student.average_grade(demo.grade + demo1.grade + demo2.grade)\n",
        "print(demo3)\n"
      ],
      "metadata": {
        "id": "gYjGgAQdu-hT",
        "outputId": "7791e591-129b-43d8-e851-08fe0bd9c067",
        "colab": {
          "base_uri": "https://localhost:8080/"
        }
      },
      "execution_count": 12,
      "outputs": [
        {
          "output_type": "stream",
          "name": "stdout",
          "text": [
            "80.0\n"
          ]
        }
      ]
    },
    {
      "cell_type": "code",
      "source": [
        "#13. Create a class Rectangle with methods set_dimensions() to set the dimensions and area() to calculate the area.\n",
        "class Rectangle:\n",
        "  def dimension(self,length,breadth):\n",
        "    self.length = length\n",
        "    self.breadth = breadth\n",
        "\n",
        "  def area(self,area=0):\n",
        "    self.area = self.length * self.breadth\n",
        "    return self.area\n",
        "\n",
        "demo = Rectangle()\n",
        "demo.dimension(5,8)\n",
        "demo.area()\n"
      ],
      "metadata": {
        "id": "fuDIkewbvJxV",
        "outputId": "78efb586-c405-4130-eecb-59bb68bf9d3a",
        "colab": {
          "base_uri": "https://localhost:8080/"
        }
      },
      "execution_count": 13,
      "outputs": [
        {
          "output_type": "execute_result",
          "data": {
            "text/plain": [
              "40"
            ]
          },
          "metadata": {},
          "execution_count": 13
        }
      ]
    },
    {
      "cell_type": "code",
      "source": [
        "#14. Create a class Employee with method calculate_salary() that computes the salary based on hours worked and hourly rate. Create a derived class Manager that adds a bonus to the salary.\n",
        "class Employee:\n",
        "  def __init__(self,hours_worked,hourly_rate):\n",
        "    self.hours_worked = hours_worked\n",
        "    self.hourly_rate = hourly_rate\n",
        "\n",
        "  def calculate_salary(self,salary=0):\n",
        "    self.salary = self.hours_worked * self.hourly_rate\n",
        "    return self.salary\n",
        "\n",
        "class Manager(Employee):\n",
        "    def bonus(self,bonus=0):\n",
        "      self.bonus = bonus\n",
        "      return self.salary + self.bonus\n",
        "\n",
        "demo = Manager(5,10)\n",
        "demo.calculate_salary()\n",
        "demo.bonus(100)\n"
      ],
      "metadata": {
        "id": "3d843RgIvPye",
        "outputId": "3aac2f3c-84f5-4bb0-9f34-3dd2ab7921eb",
        "colab": {
          "base_uri": "https://localhost:8080/"
        }
      },
      "execution_count": 14,
      "outputs": [
        {
          "output_type": "execute_result",
          "data": {
            "text/plain": [
              "150"
            ]
          },
          "metadata": {},
          "execution_count": 14
        }
      ]
    },
    {
      "cell_type": "code",
      "source": [
        "#15. Create a class Product with attributes name, price, and quantity. Implement a method total_price() that calculates the total price of the product.\n",
        "class Product:\n",
        "  def __init__(self,name,price,quantity):\n",
        "    self.name = name\n",
        "    self.price = price\n",
        "    self.quantity = quantity\n",
        "\n",
        "  def total_price(self,total_price=0):\n",
        "    self.total_price = self.price * self.quantity\n",
        "    return self.total_price\n",
        "\n",
        "demo = Product(\"Potato\",45,2)\n",
        "demo.total_price()\n"
      ],
      "metadata": {
        "id": "G132VF4JvTzU",
        "outputId": "97abd4f2-e085-4aa0-f113-cc2d09d297f9",
        "colab": {
          "base_uri": "https://localhost:8080/"
        }
      },
      "execution_count": 15,
      "outputs": [
        {
          "output_type": "execute_result",
          "data": {
            "text/plain": [
              "90"
            ]
          },
          "metadata": {},
          "execution_count": 15
        }
      ]
    },
    {
      "cell_type": "code",
      "source": [
        "#16. Create a class Animal with an abstract method sound(). Create two derived class Cow and Sheep that implement the sound() method.\n",
        "class Animal:\n",
        "  @abc.abstractmethod\n",
        "  def sound(self):\n",
        "    pass\n",
        "\n",
        "class Cow(Animal):\n",
        "  def sound(self):\n",
        "    print (\"Cow sound\")\n",
        "\n",
        "class Sheep(Animal):\n",
        "  def sound(self):\n",
        "    print (\"sheep sound\")\n",
        "\n",
        "demo = Cow()\n",
        "demo.sound()\n",
        "\n"
      ],
      "metadata": {
        "id": "xPDO6XWPvZeY",
        "outputId": "98ec86d5-6f33-453f-e806-1ea9800848f8",
        "colab": {
          "base_uri": "https://localhost:8080/"
        }
      },
      "execution_count": 16,
      "outputs": [
        {
          "output_type": "stream",
          "name": "stdout",
          "text": [
            "Cow sound\n"
          ]
        }
      ]
    },
    {
      "cell_type": "code",
      "source": [
        "#17.Create a class book with attributes title,author, and year_published. Add a method get_book_info() that returns a formatted string with the book's details.\n",
        "class book:\n",
        "  def __init__(self,title,author,year_published):\n",
        "    self.title = title\n",
        "    self.author = author\n",
        "    self.year_published = year_published\n",
        "\n",
        "  def get_book_info(self):\n",
        "    print(f\"{self.title} is written by {self.author} and was published in the year {self.year_published}\")\n",
        "\n",
        "demo = book(\"The firm\",\"Jeffrey Archer\",\"1985\")\n",
        "demo.get_book_info()\n"
      ],
      "metadata": {
        "id": "spVCMFTbvgM1",
        "outputId": "e2745037-ff66-4965-fe31-41e3aa1ad5b2",
        "colab": {
          "base_uri": "https://localhost:8080/"
        }
      },
      "execution_count": 17,
      "outputs": [
        {
          "output_type": "stream",
          "name": "stdout",
          "text": [
            "The firm is written by Jeffrey Archer and was published in the year 1985\n"
          ]
        }
      ]
    },
    {
      "cell_type": "code",
      "source": [
        "#18. Create a class House with attributes address and price.Create a derived class Mansion that adds an attribute number_of_rooms.\n",
        "class House:\n",
        "  def __init__(self,address,price):\n",
        "    self.address = address\n",
        "    self.price = price\n",
        "\n",
        "class Mansion(House):\n",
        "  def number_of_rooms(self,number_of_rooms):\n",
        "    self.number_of_rooms = number_of_rooms\n",
        "    return f\"The Mansion has {self.number_of_rooms} rooms with address as {self.address} and of price {self.price}\"\n",
        "\n",
        "demo = Mansion(\"Elite\",20000000)\n",
        "demo.number_of_rooms(5)"
      ],
      "metadata": {
        "id": "7t1cGRFrvkRM",
        "outputId": "ce31e9cd-f278-406a-c58e-2bd19327f07f",
        "colab": {
          "base_uri": "https://localhost:8080/",
          "height": 35
        }
      },
      "execution_count": 18,
      "outputs": [
        {
          "output_type": "execute_result",
          "data": {
            "text/plain": [
              "'The Mansion has 5 rooms with address as Elite and of price 20000000'"
            ],
            "application/vnd.google.colaboratory.intrinsic+json": {
              "type": "string"
            }
          },
          "metadata": {},
          "execution_count": 18
        }
      ]
    }
  ],
  "metadata": {
    "colab": {
      "name": "Welcome to Colaboratory",
      "toc_visible": true,
      "provenance": []
    },
    "kernelspec": {
      "display_name": "Python 3",
      "name": "python3"
    }
  },
  "nbformat": 4,
  "nbformat_minor": 0
}